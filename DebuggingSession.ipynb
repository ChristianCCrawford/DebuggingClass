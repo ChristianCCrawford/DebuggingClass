{
 "cells": [
  {
   "cell_type": "code",
   "execution_count": null,
   "id": "57d8926e",
   "metadata": {},
   "outputs": [],
   "source": [
    "def num_add(a,b): \n",
    "    ''' a:'2' b: '3' '''\n",
    "    '''return sum of two numbers'''\n",
    "    s = a + b\n",
    "    return s\n",
    "\n",
    "good_input = False\n",
    "while not good_input:\n",
    "    n1 = input('Enter first number: ')\n",
    "    try:\n",
    "        n1 = int(n1)\n",
    "        print(n1, \"this is good input\")\n",
    "        good_input = True\n",
    "    except ValueError:\n",
    "        print(\"Error, not a valid number\")\n",
    "        continue\n",
    "\n",
    "good_input = False\n",
    "while not good_input:\n",
    "    n2 = input('Enter second number: ')\n",
    "    try:\n",
    "        n2 = int(n2)\n",
    "        good_input = True\n",
    "    except ValueError:\n",
    "        print(\"Error, not a valid number\")\n",
    "        continue\n",
    "\n",
    "s = num_add(n1,n2)\n",
    "print('sum is', s)"
   ]
  },
  {
   "cell_type": "markdown",
   "id": "40f0e67e",
   "metadata": {},
   "source": [
    "The bug of this method was that the input was being taken as strings and not intergers. "
   ]
  },
  {
   "cell_type": "code",
   "execution_count": 17,
   "id": "3837cb5e",
   "metadata": {},
   "outputs": [
    {
     "name": "stdout",
     "output_type": "stream",
     "text": [
      "[{'name': 'kyle', 'age': 24}, {'name': 'Joey', 'age': 24}, {'name': 'Bailee', 'age': 22}, {'name': 'John', 'age': 43}]\n"
     ]
    }
   ],
   "source": [
    "'''Create an array that has an object at each index'''\n",
    "user = [{'name': 'kyle', 'age': 24},\n",
    "        {'name': 'Joey', 'age': 24},\n",
    "        {'name': 'Bailee', 'age': 22},\n",
    "        {'name': 'John', 'age': 43}\n",
    "        ]\n",
    "'''print each object name and age'''\n",
    "def print_user(user):\n",
    "    for users in user:\n",
    "        print('User ', users['name'], ' will be ', users['age'], users[' years'])\n",
    "        \n",
    "print(user)"
   ]
  },
  {
   "cell_type": "markdown",
   "id": "a18c16a8",
   "metadata": {},
   "source": [
    "This bug for this method was that the name and age variables were misinterpereted by the compiler. "
   ]
  },
  {
   "cell_type": "code",
   "execution_count": 32,
   "id": "e30b4a17",
   "metadata": {},
   "outputs": [
    {
     "name": "stdout",
     "output_type": "stream",
     "text": [
      "1.0\n"
     ]
    }
   ],
   "source": [
    "def divide_num(n1, n2):\n",
    "   return n1 / n2\n",
    "\n",
    "n1= 4\n",
    "n2 = 4\n",
    "#divide_num(n1, n2)\n",
    "print(divide_num(n1, n2))"
   ]
  },
  {
   "cell_type": "markdown",
   "id": "8ad8fdd1",
   "metadata": {},
   "source": [
    "The bug for this function was the name variable in the code when there should've been two integer variables. And the divide_num function did not divide the two vairables. "
   ]
  },
  {
   "cell_type": "code",
   "execution_count": 23,
   "id": "d9367da4",
   "metadata": {},
   "outputs": [
    {
     "name": "stdout",
     "output_type": "stream",
     "text": [
      "[1, 3, 4, 5, 6]\n"
     ]
    }
   ],
   "source": [
    "list_num = [1,3,4,5,6]\n",
    "print(list_num)"
   ]
  },
  {
   "cell_type": "markdown",
   "id": "ca7eacb2",
   "metadata": {},
   "source": [
    "The bug for this funtion is that there was a syntax error aka an extra , between 1 and 3."
   ]
  }
 ],
 "metadata": {
  "kernelspec": {
   "display_name": "Python 3",
   "language": "python",
   "name": "python3"
  },
  "language_info": {
   "codemirror_mode": {
    "name": "ipython",
    "version": 3
   },
   "file_extension": ".py",
   "mimetype": "text/x-python",
   "name": "python",
   "nbconvert_exporter": "python",
   "pygments_lexer": "ipython3",
   "version": "3.9.4"
  }
 },
 "nbformat": 4,
 "nbformat_minor": 5
}
